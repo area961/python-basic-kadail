{
  "nbformat": 4,
  "nbformat_minor": 0,
  "metadata": {
    "colab": {
      "provenance": []
    },
    "kernelspec": {
      "name": "python3",
      "display_name": "Python 3"
    },
    "language_info": {
      "name": "python"
    }
  },
  "cells": [
    {
      "cell_type": "code",
      "execution_count": 1,
      "metadata": {
        "colab": {
          "base_uri": "https://localhost:8080/"
        },
        "id": "6Arwz5e3duvJ",
        "outputId": "759d3c89-b1d8-4c1b-ac3c-e91646897eac"
      },
      "outputs": [
        {
          "output_type": "stream",
          "name": "stdout",
          "text": [
            "太郎は大人です。\n",
            "花子は大人ではありません。\n",
            "次郎は大人です。\n"
          ]
        }
      ],
      "source": [
        "class Human:\n",
        "    def __init__(self, name, age):\n",
        "        self.name = name\n",
        "        self.age = age\n",
        "\n",
        "    def check_adult(self):\n",
        "        if self.age >= 20:\n",
        "            print(f\"{self.name}は大人です。\")\n",
        "        else:\n",
        "            print(f\"{self.name}は大人ではありません。\")\n",
        "\n",
        "# 複数のHumanインスタンスを生成してリストに追加\n",
        "humans = [\n",
        "    Human(\"太郎\", 25),\n",
        "    Human(\"花子\", 18),\n",
        "    Human(\"次郎\", 30)\n",
        "]\n",
        "\n",
        "# リストの要素数分だけcheck_adultメソッドを呼び出す\n",
        "for human in humans:\n",
        "    human.check_adult()"
      ]
    }
  ]
}